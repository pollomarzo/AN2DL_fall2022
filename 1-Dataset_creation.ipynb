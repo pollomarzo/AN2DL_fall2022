{
  "cells": [
    {
      "cell_type": "markdown",
      "metadata": {},
      "source": [
        "### Classes distribution\n",
        "\n",
        "The dataset contains 3542 images, distributed as follows:\n",
        "\n",
        "| Class  | #Samples | \n",
        "| --- | --- |\n",
        "| **Species1** | 186 |\n",
        "| **Species2** | 532 |\n",
        "| **Species3** | 515 |\n",
        "| **Species4** | 511 |\n",
        "| **Species5** | 531 |\n",
        "| **Species6** | 222 |\n",
        "| **Species7** | 537 |\n",
        "| **Species8** | 508 |\n"
      ]
    },
    {
      "cell_type": "markdown",
      "metadata": {},
      "source": [
        "### Settings"
      ]
    },
    {
      "cell_type": "markdown",
      "metadata": {},
      "source": [
        "Import the necessary modules"
      ]
    },
    {
      "cell_type": "code",
      "execution_count": 1,
      "metadata": {},
      "outputs": [],
      "source": [
        "import os\n",
        "import random\n",
        "\n",
        "from shutil import copyfile"
      ]
    },
    {
      "cell_type": "markdown",
      "metadata": {},
      "source": [
        "Set random seed for reproducibility"
      ]
    },
    {
      "cell_type": "code",
      "execution_count": 2,
      "metadata": {},
      "outputs": [],
      "source": [
        "seed = 42\n",
        "\n",
        "random.seed(seed)\n",
        "os.environ['PYTHONHASHSEED'] = str(seed)"
      ]
    },
    {
      "cell_type": "markdown",
      "metadata": {},
      "source": [
        "### Data preprocessing"
      ]
    },
    {
      "cell_type": "markdown",
      "metadata": {},
      "source": [
        "Define the dataset directory and the subdirectories that will contain the training, validation and test images"
      ]
    },
    {
      "cell_type": "code",
      "execution_count": 3,
      "metadata": {},
      "outputs": [],
      "source": [
        "DATA_DIR = 'C:\\\\Users\\\\markz\\\\Desktop\\\\ANN_chall_1\\\\training_data_final'\n",
        "\n",
        "SPLIT_DIR = ['training', 'validation', 'testing']"
      ]
    },
    {
      "cell_type": "markdown",
      "metadata": {},
      "source": [
        "Set dataset percentages for training, validation and test"
      ]
    },
    {
      "cell_type": "code",
      "execution_count": 4,
      "metadata": {},
      "outputs": [],
      "source": [
        "PERC = {}\n",
        "\n",
        "PERC['training'] = 0.6         # 60%\n",
        "PERC['validation'] = 0.2       # 20%\n",
        "PERC['testing'] = 0.2          # 20%"
      ]
    },
    {
      "cell_type": "markdown",
      "metadata": {},
      "source": [
        "Set the labels names"
      ]
    },
    {
      "cell_type": "code",
      "execution_count": 5,
      "metadata": {},
      "outputs": [],
      "source": [
        "LABELS = ['Species1','Species2','Species3','Species4','Species5','Species6','Species7','Species8']"
      ]
    },
    {
      "cell_type": "markdown",
      "metadata": {},
      "source": [
        "Create the folders that will contain the training, validation and testing data"
      ]
    },
    {
      "cell_type": "code",
      "execution_count": 6,
      "metadata": {},
      "outputs": [],
      "source": [
        "def createFolder(path):\n",
        "    # path : path of the folder to create\n",
        "    try:\n",
        "        os.mkdir(path)\n",
        "    except OSError:\n",
        "        print (\"Creation of the directory \" + path + \" failed, maybe the folder already exists\")\n",
        "\n",
        "# Create the three folders training, validation and testing\n",
        "for dir in SPLIT_DIR:\n",
        "    \n",
        "    folder = os.path.join(DATA_DIR, dir)\n",
        "    createFolder(folder)\n",
        "\n",
        "    # Create one subfolder for each class\n",
        "\n",
        "    for species in LABELS:\n",
        "        createFolder(os.path.join(folder, species))"
      ]
    },
    {
      "cell_type": "markdown",
      "metadata": {},
      "source": [
        "Assign each image to one partition"
      ]
    },
    {
      "cell_type": "code",
      "execution_count": 7,
      "metadata": {},
      "outputs": [],
      "source": [
        "SET = {}\n",
        "\n",
        "SET['training'] = []\n",
        "SET['validation'] = []\n",
        "SET['testing'] = []\n",
        "\n",
        "for label in LABELS:\n",
        "    folder = os.path.join(DATA_DIR, label)\n",
        "    images = next(os.walk(folder))[2]\n",
        "\n",
        "    # Counts the number of samples\n",
        "    samples_number = len(images)\n",
        "\n",
        "    # Shuffles\n",
        "    random.shuffle(images)\n",
        "\n",
        "    # Splits the dataset \n",
        "    SET['training'].append(images[:int(PERC['training'] * samples_number)])\n",
        "    SET['validation'].append(images[int(PERC['training'] * samples_number):int((PERC['training'] + PERC['validation'])*samples_number)])\n",
        "    SET['testing'].append(images[int((PERC['training'] + PERC['validation'])*samples_number):])"
      ]
    },
    {
      "cell_type": "markdown",
      "metadata": {},
      "source": [
        "Print the number of images in each set"
      ]
    },
    {
      "cell_type": "code",
      "execution_count": 8,
      "metadata": {},
      "outputs": [
        {
          "name": "stdout",
          "output_type": "stream",
          "text": [
            "[111, 319, 309, 306, 318, 133, 322, 304]\n",
            "[37, 106, 103, 102, 106, 44, 107, 102]\n",
            "[38, 107, 103, 103, 107, 45, 108, 102]\n"
          ]
        }
      ],
      "source": [
        "for k in SET.keys(): print([len(label) for label in SET[k]])"
      ]
    },
    {
      "cell_type": "markdown",
      "metadata": {},
      "source": [
        "Copy the images into the new folders"
      ]
    },
    {
      "cell_type": "code",
      "execution_count": 9,
      "metadata": {},
      "outputs": [],
      "source": [
        "for dir in SPLIT_DIR:\n",
        "    folder = os.path.join(DATA_DIR, dir)\n",
        "    i = 0\n",
        "    # For each class target\n",
        "    for label in LABELS:\n",
        "\n",
        "        target = os.path.join(folder, label)\n",
        "        source = os.path.join(DATA_DIR, label)\n",
        "\n",
        "        # Copying each image to the new directory\n",
        "        for sample in SET[dir][i]:\n",
        "            copyfile(source + '\\\\' + sample, target + '\\\\' + sample)\n",
        "        i += 1"
      ]
    },
    {
      "cell_type": "markdown",
      "metadata": {},
      "source": [
        "Now the dataset is divided into training, validation and testing samples.<br>\n",
        "We are all set to start with the model training."
      ]
    }
  ],
  "metadata": {
    "colab": {
      "collapsed_sections": [],
      "provenance": []
    },
    "kernelspec": {
      "display_name": "Python 3.10.1 64-bit",
      "language": "python",
      "name": "python3"
    },
    "language_info": {
      "codemirror_mode": {
        "name": "ipython",
        "version": 3
      },
      "file_extension": ".py",
      "mimetype": "text/x-python",
      "name": "python",
      "nbconvert_exporter": "python",
      "pygments_lexer": "ipython3",
      "version": "3.10.1"
    },
    "vscode": {
      "interpreter": {
        "hash": "bb1e698a89a4f2271d8499a0cea708198ae2061802de8947e6d2bcfb50741015"
      }
    }
  },
  "nbformat": 4,
  "nbformat_minor": 0
}
