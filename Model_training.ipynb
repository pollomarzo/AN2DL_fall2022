{
  "cells": [
    {
      "cell_type": "markdown",
      "metadata": {},
      "source": [
        "# Settings\n",
        "\n",
        "Import the libraries"
      ]
    },
    {
      "cell_type": "code",
      "execution_count": null,
      "metadata": {},
      "outputs": [],
      "source": [
        "import tensorflow as tf\n",
        "import numpy as np\n",
        "import os\n",
        "import random\n",
        "import seaborn as sns\n",
        "import matplotlib.pyplot as plt\n",
        "from sklearn.metrics import accuracy_score, f1_score, precision_score, recall_score\n",
        "from sklearn.metrics import confusion_matrix\n",
        "from tensorflow.keras.preprocessing.image import ImageDataGenerator\n",
        "\n",
        "tfk = tf.keras\n",
        "tfkl = tf.keras.layers"
      ]
    },
    {
      "cell_type": "code",
      "execution_count": 2,
      "metadata": {},
      "outputs": [],
      "source": [
        "# Random seed for reproducibility\n",
        "seed = 25\n",
        "\n",
        "random.seed(seed)\n",
        "os.environ['PYTHONHASHSEED'] = str(seed)\n",
        "np.random.seed(seed)\n",
        "tf.random.set_seed(seed)\n",
        "tf.compat.v1.set_random_seed(seed)"
      ]
    },
    {
      "cell_type": "markdown",
      "metadata": {},
      "source": [
        "Constants"
      ]
    },
    {
      "cell_type": "code",
      "execution_count": 3,
      "metadata": {},
      "outputs": [],
      "source": [
        "# Labels\n",
        "LABELS = ['Species1','Species2','Species3','Species4','Species5','Species6','Species7','Species8']"
      ]
    },
    {
      "cell_type": "code",
      "execution_count": 4,
      "metadata": {},
      "outputs": [],
      "source": [
        "# Model hyperparameters\n",
        "INPUT_SHAPE = (96, 96, 3)\n",
        "IMAGE_SIZE = (INPUT_SHAPE[0], INPUT_SHAPE[1])\n",
        "\n",
        "EPOCHS = 100\n",
        "BATCH_SIZE = 64\n",
        "\n",
        "NUM_CLASSES = len(LABELS)"
      ]
    },
    {
      "cell_type": "markdown",
      "metadata": {},
      "source": [
        "# Data loading"
      ]
    },
    {
      "cell_type": "code",
      "execution_count": 5,
      "metadata": {},
      "outputs": [],
      "source": [
        "# Paths\n",
        "DATA_DIR = 'training_data_final'\n",
        "\n",
        "PATH = {}\n",
        "PATH['training'] = os.path.join(DATA_DIR, 'training')\n",
        "PATH['validation'] = os.path.join(DATA_DIR, 'validation')\n",
        "PATH['testing'] = os.path.join(DATA_DIR, 'testing')"
      ]
    },
    {
      "cell_type": "code",
      "execution_count": 6,
      "metadata": {},
      "outputs": [
        {
          "name": "stdout",
          "output_type": "stream",
          "text": [
            "Found 2299 images belonging to 8 classes.\n"
          ]
        }
      ],
      "source": [
        "train_data_gen = ImageDataGenerator(\n",
        "    rotation_range=30,\n",
        "    height_shift_range=40,\n",
        "    width_shift_range=40,\n",
        "    horizontal_flip=True,\n",
        "    vertical_flip=True,\n",
        "    brightness_range=[0.7,1.3],\n",
        "    fill_mode='reflect'\n",
        ") \n",
        "\n",
        "train_gen = train_data_gen.flow_from_directory(\n",
        "    directory=PATH['training'],\n",
        "    target_size=IMAGE_SIZE,\n",
        "    color_mode='rgb',\n",
        "    classes=None,\n",
        "    class_mode='categorical',\n",
        "    batch_size=BATCH_SIZE,\n",
        "    shuffle=True,\n",
        "    seed=seed\n",
        ")"
      ]
    },
    {
      "cell_type": "code",
      "execution_count": 7,
      "metadata": {},
      "outputs": [
        {
          "name": "stdout",
          "output_type": "stream",
          "text": [
            "Found 530 images belonging to 8 classes.\n"
          ]
        }
      ],
      "source": [
        "valid_gen = ImageDataGenerator().flow_from_directory(\n",
        "    directory=PATH['validation'],\n",
        "    target_size=IMAGE_SIZE,\n",
        "    color_mode='rgb',\n",
        "    classes=None,\n",
        "    class_mode='categorical',\n",
        "    batch_size=BATCH_SIZE,\n",
        "    shuffle=True,\n",
        "    seed=seed\n",
        ")"
      ]
    },
    {
      "cell_type": "code",
      "execution_count": 8,
      "metadata": {},
      "outputs": [
        {
          "name": "stdout",
          "output_type": "stream",
          "text": [
            "Found 713 images belonging to 8 classes.\n"
          ]
        }
      ],
      "source": [
        "test_gen = ImageDataGenerator().flow_from_directory(\n",
        "    directory=PATH['testing'],\n",
        "    target_size=IMAGE_SIZE,\n",
        "    color_mode='rgb',\n",
        "    classes=None,\n",
        "    class_mode='categorical',\n",
        "    batch_size=BATCH_SIZE,\n",
        "    shuffle=False,\n",
        "    seed=seed\n",
        ")"
      ]
    },
    {
      "cell_type": "markdown",
      "metadata": {},
      "source": [
        "# Training the model"
      ]
    },
    {
      "cell_type": "markdown",
      "metadata": {},
      "source": [
        "Set the best performing tuned class weights found during the fine-tuning."
      ]
    },
    {
      "cell_type": "code",
      "execution_count": 9,
      "metadata": {},
      "outputs": [
        {
          "name": "stdout",
          "output_type": "stream",
          "text": [
            "{0: 3.0, 1: 1.0, 2: 1.0, 3: 2.0, 4: 1.0, 5: 1.5, 6: 1.0, 7: 2.0}\n"
          ]
        }
      ],
      "source": [
        "cw = {}\n",
        "\n",
        "for i in range(0,8):\n",
        "    cw[i] = 1.0\n",
        "\n",
        "cw[0] = 3.0\n",
        "cw[3] = 2.0\n",
        "cw[5] = 1.5\n",
        "cw[7] = 2.0\n",
        "\n",
        "print(cw)"
      ]
    },
    {
      "cell_type": "code",
      "execution_count": 10,
      "metadata": {},
      "outputs": [],
      "source": [
        "def create(layers, d=0.3):\n",
        "    pretrained_model= tf.keras.applications.ConvNeXtLarge(include_top=False,input_shape=INPUT_SHAPE,weights='imagenet')\n",
        "\n",
        "    pretrained_model.trainable = False\n",
        "\n",
        "    inputs = tfk.Input(shape=INPUT_SHAPE)\n",
        "    conv = pretrained_model(inputs)\n",
        "    classifier_layer = tfkl.GlobalAveragePooling2D()(conv)\n",
        "    classifier_layer = tfkl.Dropout(d, seed=seed)(classifier_layer)\n",
        "\n",
        "    for layer in layers:\n",
        "        classifier_layer = tfkl.Dense(units=layer, kernel_initializer = tfk.initializers.GlorotUniform(seed))(classifier_layer)\n",
        "        classifier_layer = tfkl.Dropout(d, seed=seed)(classifier_layer)\n",
        "        classifier_layer = tfkl.BatchNormalization()(classifier_layer)\n",
        "        classifier_layer = tf.keras.activations.relu(classifier_layer)\n",
        "\n",
        "    output_layer = tfkl.Dense(\n",
        "        units=NUM_CLASSES,\n",
        "        activation='softmax',\n",
        "        kernel_initializer = tfk.initializers.GlorotUniform(seed))(classifier_layer)\n",
        "\n",
        "    model = tfk.Model(inputs=inputs, outputs=output_layer, name='model')\n",
        "    return model\n",
        "\n",
        "def train(model,layers_to_freeze,learning_r,min_l,clssw,fac=0.5,pat=4):\n",
        "    MODEL_NAME = 'convnext_large'\n",
        "    model.get_layer(MODEL_NAME).trainable = True\n",
        "\n",
        "    for i, layer in enumerate(model.get_layer(MODEL_NAME).layers[:layers_to_freeze]):\n",
        "        layer.trainable=False\n",
        "\n",
        "    model.compile(loss=tfk.losses.CategoricalCrossentropy(), optimizer=tfk.optimizers.Adam(learning_rate=learning_r), metrics=['categorical_accuracy'])\n",
        "\n",
        "    with tf.device(\"/GPU:0\"): # Force GPU use\n",
        "        history = model.fit(\n",
        "            x = train_gen,\n",
        "            batch_size = BATCH_SIZE,\n",
        "            epochs = EPOCHS,\n",
        "            validation_data = valid_gen,\n",
        "            class_weight=clssw,\n",
        "            #verbose=0,\n",
        "            callbacks=[tfk.callbacks.EarlyStopping(monitor='val_categorical_accuracy', mode='max', patience=10, restore_best_weights=True),tfk.callbacks.ReduceLROnPlateau(monitor='val_loss', factor=fac, patience=pat, min_lr=min_l, min_delta=0.00001, restore_best_weights=True)]\n",
        "        ).history\n",
        "    \n",
        "    return (model, history)"
      ]
    },
    {
      "cell_type": "code",
      "execution_count": 11,
      "metadata": {},
      "outputs": [
        {
          "name": "stdout",
          "output_type": "stream",
          "text": [
            "Epoch 1/100\n",
            "36/36 [==============================] - 33s 540ms/step - loss: 1.9271 - categorical_accuracy: 0.5237 - val_loss: 0.8481 - val_categorical_accuracy: 0.6925 - lr: 0.0010\n",
            "Epoch 2/100\n",
            "36/36 [==============================] - 13s 362ms/step - loss: 1.3550 - categorical_accuracy: 0.6642 - val_loss: 0.8153 - val_categorical_accuracy: 0.7000 - lr: 0.0010\n",
            "Epoch 3/100\n",
            "36/36 [==============================] - 14s 374ms/step - loss: 1.2597 - categorical_accuracy: 0.6951 - val_loss: 0.6871 - val_categorical_accuracy: 0.7642 - lr: 0.0010\n",
            "Epoch 4/100\n",
            "36/36 [==============================] - 14s 374ms/step - loss: 1.1509 - categorical_accuracy: 0.7221 - val_loss: 0.5950 - val_categorical_accuracy: 0.8000 - lr: 0.0010\n",
            "Epoch 5/100\n",
            "36/36 [==============================] - 13s 365ms/step - loss: 1.1319 - categorical_accuracy: 0.7299 - val_loss: 0.5467 - val_categorical_accuracy: 0.8245 - lr: 0.0010\n",
            "Epoch 6/100\n",
            "36/36 [==============================] - 13s 365ms/step - loss: 1.0191 - categorical_accuracy: 0.7525 - val_loss: 0.5274 - val_categorical_accuracy: 0.8245 - lr: 0.0010\n",
            "Epoch 7/100\n",
            "36/36 [==============================] - 13s 369ms/step - loss: 1.0329 - categorical_accuracy: 0.7464 - val_loss: 0.5402 - val_categorical_accuracy: 0.8283 - lr: 0.0010\n",
            "Epoch 8/100\n",
            "36/36 [==============================] - 14s 374ms/step - loss: 1.0105 - categorical_accuracy: 0.7547 - val_loss: 0.5205 - val_categorical_accuracy: 0.8377 - lr: 0.0010\n",
            "Epoch 9/100\n",
            "36/36 [==============================] - 13s 354ms/step - loss: 0.9689 - categorical_accuracy: 0.7616 - val_loss: 0.5602 - val_categorical_accuracy: 0.8113 - lr: 0.0010\n",
            "Epoch 10/100\n",
            "36/36 [==============================] - 13s 369ms/step - loss: 0.9586 - categorical_accuracy: 0.7612 - val_loss: 0.5481 - val_categorical_accuracy: 0.8321 - lr: 0.0010\n",
            "Epoch 11/100\n",
            "36/36 [==============================] - 13s 361ms/step - loss: 0.9335 - categorical_accuracy: 0.7712 - val_loss: 0.5537 - val_categorical_accuracy: 0.8208 - lr: 0.0010\n",
            "Epoch 12/100\n",
            "36/36 [==============================] - 13s 358ms/step - loss: 0.9041 - categorical_accuracy: 0.7725 - val_loss: 0.5943 - val_categorical_accuracy: 0.7943 - lr: 0.0010\n",
            "Epoch 13/100\n",
            "36/36 [==============================] - 12s 341ms/step - loss: 0.8529 - categorical_accuracy: 0.7951 - val_loss: 0.5237 - val_categorical_accuracy: 0.8377 - lr: 5.0000e-04\n",
            "Epoch 14/100\n",
            "36/36 [==============================] - 13s 350ms/step - loss: 0.8344 - categorical_accuracy: 0.7986 - val_loss: 0.4948 - val_categorical_accuracy: 0.8358 - lr: 5.0000e-04\n",
            "Epoch 15/100\n",
            "36/36 [==============================] - 13s 355ms/step - loss: 0.8156 - categorical_accuracy: 0.8099 - val_loss: 0.4901 - val_categorical_accuracy: 0.8396 - lr: 5.0000e-04\n",
            "Epoch 16/100\n",
            "36/36 [==============================] - 13s 367ms/step - loss: 0.8420 - categorical_accuracy: 0.7873 - val_loss: 0.4981 - val_categorical_accuracy: 0.8415 - lr: 5.0000e-04\n",
            "Epoch 17/100\n",
            "36/36 [==============================] - 13s 354ms/step - loss: 0.8216 - categorical_accuracy: 0.7969 - val_loss: 0.5100 - val_categorical_accuracy: 0.8415 - lr: 5.0000e-04\n",
            "Epoch 18/100\n",
            "36/36 [==============================] - 13s 359ms/step - loss: 0.8268 - categorical_accuracy: 0.8060 - val_loss: 0.4734 - val_categorical_accuracy: 0.8528 - lr: 5.0000e-04\n",
            "Epoch 19/100\n",
            "36/36 [==============================] - 13s 364ms/step - loss: 0.7748 - categorical_accuracy: 0.8030 - val_loss: 0.4700 - val_categorical_accuracy: 0.8472 - lr: 5.0000e-04\n",
            "Epoch 20/100\n",
            "36/36 [==============================] - 13s 356ms/step - loss: 0.7808 - categorical_accuracy: 0.8064 - val_loss: 0.5071 - val_categorical_accuracy: 0.8283 - lr: 5.0000e-04\n",
            "Epoch 21/100\n",
            "36/36 [==============================] - 13s 348ms/step - loss: 0.7785 - categorical_accuracy: 0.8138 - val_loss: 0.4952 - val_categorical_accuracy: 0.8396 - lr: 5.0000e-04\n",
            "Epoch 22/100\n",
            "36/36 [==============================] - 12s 343ms/step - loss: 0.7554 - categorical_accuracy: 0.8204 - val_loss: 0.5073 - val_categorical_accuracy: 0.8377 - lr: 5.0000e-04\n",
            "Epoch 23/100\n",
            "36/36 [==============================] - 12s 339ms/step - loss: 0.7251 - categorical_accuracy: 0.8212 - val_loss: 0.4714 - val_categorical_accuracy: 0.8509 - lr: 5.0000e-04\n",
            "Epoch 24/100\n",
            "36/36 [==============================] - 12s 344ms/step - loss: 0.7158 - categorical_accuracy: 0.8243 - val_loss: 0.4597 - val_categorical_accuracy: 0.8491 - lr: 2.5000e-04\n",
            "Epoch 25/100\n",
            "36/36 [==============================] - 13s 346ms/step - loss: 0.7341 - categorical_accuracy: 0.8238 - val_loss: 0.4542 - val_categorical_accuracy: 0.8396 - lr: 2.5000e-04\n",
            "Epoch 26/100\n",
            "36/36 [==============================] - 13s 352ms/step - loss: 0.7524 - categorical_accuracy: 0.8130 - val_loss: 0.4423 - val_categorical_accuracy: 0.8528 - lr: 2.5000e-04\n",
            "Epoch 27/100\n",
            "36/36 [==============================] - 14s 383ms/step - loss: 0.6965 - categorical_accuracy: 0.8338 - val_loss: 0.4361 - val_categorical_accuracy: 0.8566 - lr: 2.5000e-04\n",
            "Epoch 28/100\n",
            "36/36 [==============================] - 13s 347ms/step - loss: 0.6741 - categorical_accuracy: 0.8330 - val_loss: 0.4343 - val_categorical_accuracy: 0.8566 - lr: 2.5000e-04\n",
            "Epoch 29/100\n",
            "36/36 [==============================] - 13s 362ms/step - loss: 0.7071 - categorical_accuracy: 0.8256 - val_loss: 0.4419 - val_categorical_accuracy: 0.8623 - lr: 2.5000e-04\n",
            "Epoch 30/100\n",
            "36/36 [==============================] - 13s 358ms/step - loss: 0.6684 - categorical_accuracy: 0.8408 - val_loss: 0.4415 - val_categorical_accuracy: 0.8528 - lr: 2.5000e-04\n",
            "Epoch 31/100\n",
            "36/36 [==============================] - 13s 364ms/step - loss: 0.6896 - categorical_accuracy: 0.8408 - val_loss: 0.4312 - val_categorical_accuracy: 0.8679 - lr: 2.5000e-04\n",
            "Epoch 32/100\n",
            "36/36 [==============================] - 13s 357ms/step - loss: 0.6633 - categorical_accuracy: 0.8491 - val_loss: 0.4341 - val_categorical_accuracy: 0.8660 - lr: 2.5000e-04\n",
            "Epoch 33/100\n",
            "36/36 [==============================] - 12s 343ms/step - loss: 0.6482 - categorical_accuracy: 0.8434 - val_loss: 0.4426 - val_categorical_accuracy: 0.8604 - lr: 2.5000e-04\n",
            "Epoch 34/100\n",
            "36/36 [==============================] - 13s 348ms/step - loss: 0.6575 - categorical_accuracy: 0.8308 - val_loss: 0.4495 - val_categorical_accuracy: 0.8528 - lr: 2.5000e-04\n",
            "Epoch 35/100\n",
            "36/36 [==============================] - 13s 356ms/step - loss: 0.6937 - categorical_accuracy: 0.8282 - val_loss: 0.4469 - val_categorical_accuracy: 0.8472 - lr: 2.5000e-04\n",
            "Epoch 36/100\n",
            "36/36 [==============================] - 13s 360ms/step - loss: 0.6620 - categorical_accuracy: 0.8338 - val_loss: 0.4418 - val_categorical_accuracy: 0.8566 - lr: 1.2500e-04\n",
            "Epoch 37/100\n",
            "36/36 [==============================] - 13s 356ms/step - loss: 0.6695 - categorical_accuracy: 0.8312 - val_loss: 0.4318 - val_categorical_accuracy: 0.8604 - lr: 1.2500e-04\n",
            "Epoch 38/100\n",
            "36/36 [==============================] - 13s 354ms/step - loss: 0.6558 - categorical_accuracy: 0.8460 - val_loss: 0.4378 - val_categorical_accuracy: 0.8604 - lr: 1.2500e-04\n",
            "Epoch 39/100\n",
            "36/36 [==============================] - 13s 358ms/step - loss: 0.6781 - categorical_accuracy: 0.8386 - val_loss: 0.4375 - val_categorical_accuracy: 0.8585 - lr: 1.2500e-04\n",
            "Epoch 40/100\n",
            "36/36 [==============================] - 13s 350ms/step - loss: 0.6432 - categorical_accuracy: 0.8408 - val_loss: 0.4403 - val_categorical_accuracy: 0.8585 - lr: 6.2500e-05\n",
            "Epoch 41/100\n",
            "36/36 [==============================] - 13s 366ms/step - loss: 0.6454 - categorical_accuracy: 0.8438 - val_loss: 0.4319 - val_categorical_accuracy: 0.8623 - lr: 6.2500e-05\n",
            "Epoch 1/100\n",
            "36/36 [==============================] - 43s 771ms/step - loss: 0.6276 - categorical_accuracy: 0.8460 - val_loss: 0.3881 - val_categorical_accuracy: 0.8792 - lr: 1.0000e-04\n",
            "Epoch 2/100\n",
            "36/36 [==============================] - 22s 621ms/step - loss: 0.5441 - categorical_accuracy: 0.8678 - val_loss: 0.3857 - val_categorical_accuracy: 0.8830 - lr: 1.0000e-04\n",
            "Epoch 3/100\n",
            "36/36 [==============================] - 22s 608ms/step - loss: 0.4730 - categorical_accuracy: 0.8921 - val_loss: 0.4499 - val_categorical_accuracy: 0.8604 - lr: 1.0000e-04\n",
            "Epoch 4/100\n",
            "36/36 [==============================] - 22s 608ms/step - loss: 0.3341 - categorical_accuracy: 0.9278 - val_loss: 0.3775 - val_categorical_accuracy: 0.8849 - lr: 1.0000e-04\n",
            "Epoch 5/100\n",
            "36/36 [==============================] - 22s 623ms/step - loss: 0.2800 - categorical_accuracy: 0.9348 - val_loss: 0.3058 - val_categorical_accuracy: 0.9075 - lr: 1.0000e-04\n",
            "Epoch 6/100\n",
            "36/36 [==============================] - 22s 609ms/step - loss: 0.2652 - categorical_accuracy: 0.9374 - val_loss: 0.3135 - val_categorical_accuracy: 0.9038 - lr: 1.0000e-04\n",
            "Epoch 7/100\n",
            "36/36 [==============================] - 21s 594ms/step - loss: 0.2007 - categorical_accuracy: 0.9482 - val_loss: 0.3481 - val_categorical_accuracy: 0.9057 - lr: 1.0000e-04\n",
            "Epoch 8/100\n",
            "36/36 [==============================] - 22s 601ms/step - loss: 0.1994 - categorical_accuracy: 0.9556 - val_loss: 0.4373 - val_categorical_accuracy: 0.8887 - lr: 1.0000e-04\n",
            "Epoch 9/100\n",
            "36/36 [==============================] - 22s 616ms/step - loss: 0.1872 - categorical_accuracy: 0.9513 - val_loss: 0.3999 - val_categorical_accuracy: 0.8792 - lr: 1.0000e-04\n",
            "Epoch 10/100\n",
            "36/36 [==============================] - 24s 650ms/step - loss: 0.1476 - categorical_accuracy: 0.9691 - val_loss: 0.3636 - val_categorical_accuracy: 0.8830 - lr: 6.0000e-05\n",
            "Epoch 11/100\n",
            "36/36 [==============================] - 23s 642ms/step - loss: 0.1428 - categorical_accuracy: 0.9669 - val_loss: 0.3259 - val_categorical_accuracy: 0.9038 - lr: 6.0000e-05\n",
            "Epoch 12/100\n",
            "36/36 [==============================] - 23s 642ms/step - loss: 0.1167 - categorical_accuracy: 0.9713 - val_loss: 0.2786 - val_categorical_accuracy: 0.9264 - lr: 6.0000e-05\n",
            "Epoch 13/100\n",
            "36/36 [==============================] - 23s 639ms/step - loss: 0.1151 - categorical_accuracy: 0.9791 - val_loss: 0.2887 - val_categorical_accuracy: 0.9151 - lr: 6.0000e-05\n",
            "Epoch 14/100\n",
            "36/36 [==============================] - 23s 640ms/step - loss: 0.0931 - categorical_accuracy: 0.9756 - val_loss: 0.2803 - val_categorical_accuracy: 0.9208 - lr: 6.0000e-05\n",
            "Epoch 15/100\n",
            "36/36 [==============================] - 23s 643ms/step - loss: 0.0979 - categorical_accuracy: 0.9752 - val_loss: 0.3168 - val_categorical_accuracy: 0.9038 - lr: 6.0000e-05\n",
            "Epoch 16/100\n",
            "36/36 [==============================] - 23s 638ms/step - loss: 0.0795 - categorical_accuracy: 0.9822 - val_loss: 0.2411 - val_categorical_accuracy: 0.9226 - lr: 6.0000e-05\n",
            "Epoch 17/100\n",
            "36/36 [==============================] - 23s 641ms/step - loss: 0.0750 - categorical_accuracy: 0.9843 - val_loss: 0.2923 - val_categorical_accuracy: 0.9189 - lr: 6.0000e-05\n",
            "Epoch 18/100\n",
            "36/36 [==============================] - 23s 626ms/step - loss: 0.0748 - categorical_accuracy: 0.9843 - val_loss: 0.2819 - val_categorical_accuracy: 0.9226 - lr: 6.0000e-05\n",
            "Epoch 19/100\n",
            "36/36 [==============================] - 23s 640ms/step - loss: 0.0612 - categorical_accuracy: 0.9874 - val_loss: 0.2575 - val_categorical_accuracy: 0.9226 - lr: 6.0000e-05\n",
            "Epoch 20/100\n",
            "36/36 [==============================] - 23s 645ms/step - loss: 0.0653 - categorical_accuracy: 0.9891 - val_loss: 0.2664 - val_categorical_accuracy: 0.9226 - lr: 6.0000e-05\n",
            "Epoch 21/100\n",
            "36/36 [==============================] - 24s 665ms/step - loss: 0.0517 - categorical_accuracy: 0.9878 - val_loss: 0.2388 - val_categorical_accuracy: 0.9340 - lr: 5.0000e-05\n",
            "Epoch 22/100\n",
            "36/36 [==============================] - 23s 644ms/step - loss: 0.0541 - categorical_accuracy: 0.9856 - val_loss: 0.2904 - val_categorical_accuracy: 0.9208 - lr: 5.0000e-05\n",
            "Epoch 23/100\n",
            "36/36 [==============================] - 23s 649ms/step - loss: 0.0498 - categorical_accuracy: 0.9904 - val_loss: 0.2841 - val_categorical_accuracy: 0.9189 - lr: 5.0000e-05\n",
            "Epoch 24/100\n",
            "36/36 [==============================] - 24s 653ms/step - loss: 0.0525 - categorical_accuracy: 0.9878 - val_loss: 0.3499 - val_categorical_accuracy: 0.9113 - lr: 5.0000e-05\n",
            "Epoch 25/100\n",
            "36/36 [==============================] - 24s 679ms/step - loss: 0.0399 - categorical_accuracy: 0.9957 - val_loss: 0.2648 - val_categorical_accuracy: 0.9283 - lr: 5.0000e-05\n",
            "Epoch 26/100\n",
            "36/36 [==============================] - 24s 658ms/step - loss: 0.0375 - categorical_accuracy: 0.9917 - val_loss: 0.2651 - val_categorical_accuracy: 0.9189 - lr: 5.0000e-05\n",
            "Epoch 27/100\n",
            "36/36 [==============================] - 23s 644ms/step - loss: 0.0345 - categorical_accuracy: 0.9922 - val_loss: 0.2306 - val_categorical_accuracy: 0.9264 - lr: 5.0000e-05\n",
            "Epoch 28/100\n",
            "36/36 [==============================] - 24s 664ms/step - loss: 0.0388 - categorical_accuracy: 0.9913 - val_loss: 0.2285 - val_categorical_accuracy: 0.9283 - lr: 5.0000e-05\n",
            "Epoch 29/100\n",
            "36/36 [==============================] - 24s 669ms/step - loss: 0.0399 - categorical_accuracy: 0.9917 - val_loss: 0.3498 - val_categorical_accuracy: 0.8981 - lr: 5.0000e-05\n",
            "Epoch 30/100\n",
            "36/36 [==============================] - 23s 638ms/step - loss: 0.0576 - categorical_accuracy: 0.9891 - val_loss: 0.3189 - val_categorical_accuracy: 0.9038 - lr: 5.0000e-05\n",
            "Epoch 31/100\n",
            "36/36 [==============================] - 23s 649ms/step - loss: 0.0304 - categorical_accuracy: 0.9943 - val_loss: 0.3159 - val_categorical_accuracy: 0.9094 - lr: 5.0000e-05\n"
          ]
        }
      ],
      "source": [
        "with_c = create(['1024'], d=0.3)\n",
        "t_c = train(with_c, 295, 1e-3, 0.0, cw, fac=0.5, pat=4)   # Transfer learning\n",
        "t_cnn = train(t_c[0], 90, 1e-4, 5e-5, cw, fac=0.6, pat=4) # Fine-tuning"
      ]
    },
    {
      "cell_type": "code",
      "execution_count": 12,
      "metadata": {},
      "outputs": [
        {
          "data": {
            "image/png": "[encoded data removed]",
            "text/plain": [
              "<Figure size 1440x360 with 1 Axes>"
            ]
          },
          "metadata": {
            "needs_background": "light"
          },
          "output_type": "display_data"
        },
        {
          "data": {
            "image/png": "[encoded data removed]",
            "text/plain": [
              "<Figure size 1440x360 with 1 Axes>"
            ]
          },
          "metadata": {
            "needs_background": "light"
          },
          "output_type": "display_data"
        }
      ],
      "source": [
        "plt.figure(figsize=(20,5))\n",
        "plt.plot(t_c[1]['loss']+t_cnn[1]['loss'], label='Training', alpha=.8, color='#ff7f0e')\n",
        "plt.plot(t_c[1]['val_loss']+t_cnn[1]['val_loss'], label='Validation', alpha=.8, color='#4D61E2')\n",
        "plt.legend(loc='upper left')\n",
        "plt.title('Binary Crossentropy')\n",
        "plt.grid(alpha=.3)\n",
        "\n",
        "plt.figure(figsize=(20,5))\n",
        "plt.plot(t_c[1]['categorical_accuracy']+t_cnn[1]['categorical_accuracy'], label='Training', alpha=.8, color='#ff7f0e')\n",
        "plt.plot(t_c[1]['val_categorical_accuracy']+t_cnn[1]['val_categorical_accuracy'], label='Validation', alpha=.8, color='#4D61E2')\n",
        "plt.legend(loc='upper left')\n",
        "plt.title('Accuracy')\n",
        "plt.grid(alpha=.3)\n",
        "\n",
        "plt.show()"
      ]
    },
    {
      "cell_type": "code",
      "execution_count": 13,
      "metadata": {},
      "outputs": [
        {
          "name": "stdout",
          "output_type": "stream",
          "text": [
            "Model: \"model\"\n",
            "_________________________________________________________________\n",
            " Layer (type)                Output Shape              Param #   \n",
            "=================================================================\n",
            " input_2 (InputLayer)        [(None, 96, 96, 3)]       0         \n",
            "                                                                 \n",
            " convnext_large (Functional)  (None, 3, 3, 1536)       196230336 \n",
            "                                                                 \n",
            " global_average_pooling2d (G  (None, 1536)             0         \n",
            " lobalAveragePooling2D)                                          \n",
            "                                                                 \n",
            " dropout (Dropout)           (None, 1536)              0         \n",
            "                                                                 \n",
            " dense (Dense)               (None, 1024)              1573888   \n",
            "                                                                 \n",
            " dropout_1 (Dropout)         (None, 1024)              0         \n",
            "                                                                 \n",
            " batch_normalization (BatchN  (None, 1024)             4096      \n",
            " ormalization)                                                   \n",
            "                                                                 \n",
            " tf.nn.relu (TFOpLambda)     (None, 1024)              0         \n",
            "                                                                 \n",
            " dense_1 (Dense)             (None, 8)                 8200      \n",
            "                                                                 \n",
            "=================================================================\n",
            "Total params: 197,816,520\n",
            "Trainable params: 167,989,000\n",
            "Non-trainable params: 29,827,520\n",
            "_________________________________________________________________\n"
          ]
        }
      ],
      "source": [
        "t_cnn[0].summary()"
      ]
    },
    {
      "cell_type": "markdown",
      "metadata": {},
      "source": [
        "# Test"
      ]
    },
    {
      "cell_type": "code",
      "execution_count": 14,
      "metadata": {},
      "outputs": [
        {
          "name": "stdout",
          "output_type": "stream",
          "text": [
            "12/12 [==============================] - 6s 322ms/step\n"
          ]
        }
      ],
      "source": [
        "test_steps_per_epoch = np.math.ceil(test_gen.samples / test_gen.batch_size)\n",
        "predictions = t_cnn[0].predict(test_gen, steps=test_steps_per_epoch)\n",
        "predicted_classes = np.argmax(predictions, axis=-1)\n",
        "true_classes = test_gen.classes\n",
        "class_labels = list(test_gen.class_indices.keys())"
      ]
    },
    {
      "cell_type": "code",
      "execution_count": 15,
      "metadata": {},
      "outputs": [
        {
          "name": "stdout",
          "output_type": "stream",
          "text": [
            "Accuracy: 0.9467\n",
            "Precision: 0.9478\n",
            "Recall: 0.9317\n",
            "F1: 0.9376\n"
          ]
        },
        {
          "data": {
            "image/png": "[encoded data removed]",
            "text/plain": [
              "<Figure size 720x576 with 2 Axes>"
            ]
          },
          "metadata": {
            "needs_background": "light"
          },
          "output_type": "display_data"
        }
      ],
      "source": [
        "cm = confusion_matrix(true_classes, predicted_classes)\n",
        "\n",
        "accuracy = accuracy_score(true_classes, predicted_classes)\n",
        "precision = precision_score(true_classes, predicted_classes, average='macro')\n",
        "recall = recall_score(true_classes, predicted_classes, average='macro')\n",
        "f1 = f1_score(true_classes, predicted_classes, average='macro')\n",
        "print('Accuracy:',accuracy.round(4))\n",
        "print('Precision:',precision.round(4))\n",
        "print('Recall:',recall.round(4))\n",
        "print('F1:',f1.round(4))\n",
        "\n",
        "plt.figure(figsize=(10,8))\n",
        "sns.heatmap(cm.T, xticklabels=list(class_labels), yticklabels=class_labels)\n",
        "plt.xlabel('True labels')\n",
        "plt.ylabel('Predicted labels')\n",
        "plt.show()"
      ]
    },
    {
      "cell_type": "code",
      "execution_count": 16,
      "metadata": {},
      "outputs": [],
      "source": [
        "# t_cnn[0].save(\"CNN\")"
      ]
    }
  ],
  "metadata": {
    "colab": {
      "collapsed_sections": [],
      "provenance": []
    },
    "kernelspec": {
      "display_name": "Python 3.10.1 64-bit",
      "language": "python",
      "name": "python3"
    },
    "language_info": {
      "codemirror_mode": {
        "name": "ipython",
        "version": 3
      },
      "file_extension": ".py",
      "mimetype": "text/x-python",
      "name": "python",
      "nbconvert_exporter": "python",
      "pygments_lexer": "ipython3",
      "version": "3.10.1"
    },
    "vscode": {
      "interpreter": {
        "hash": "bb1e698a89a4f2271d8499a0cea708198ae2061802de8947e6d2bcfb50741015"
      }
    }
  },
  "nbformat": 4,
  "nbformat_minor": 0
}
